{
 "cells": [
  {
   "metadata": {},
   "cell_type": "markdown",
   "source": [
    "# Comparative Analysis of Ensemble Methods for Predicting Antibody Titers\n",
    "\n",
    "Author: Elias Dams\n",
    "\n",
    "Date: 2 Dec 2024\n",
    "\n",
    "Implement and Compare Ensemble Methods:\n",
    "- Apply different ensemble learning techniques to predict antibody titers.\n",
    "- Evaluate the performance of each method on individual datasets.\n",
    "Identify the Best Predictive Model:\n",
    "- Determine which method or combination of methods provides the highest accuracy.\n",
    "- Assess whether integrating multiple data types improves predictions.\n",
    "\n",
    "### Methods Overview\n",
    "#### 1. Consensus Between Different Models\n",
    "Description: Combine predictions from multiple models to reach a consensus decision. This can be achieved through techniques like majority voting for classification or averaging for regression tasks.\n",
    "Purpose: To reduce individual model biases and variance by aggregating multiple model outputs, potentially leading to improved generalization on unseen data.\n",
    "\n",
    "#### 2. Stacking Classifiers\n",
    "Description: An ensemble technique where multiple base classifiers are trained, and a meta-classifier is then trained on their outputs to make the final prediction.\n",
    "Purpose: To leverage the strengths of various algorithms by combining their predictions in a way that the meta-classifier can correct their individual weaknesses.\n",
    "\n",
    "#### 3. Cascading Models:\n",
    "Description: Sequentially apply models where the output of one model serves as the input for the next. This approach can be thought of as creating a pipeline of models that refine predictions progressively.\n",
    "Purpose: To capture complex patterns by allowing subsequent models to learn from the residuals or errors of previous models, enhancing overall predictive capability.\n",
    "\n",
    "#### 4. Multiple Kernel Learning\n",
    "Description: An extension of kernel-based algorithms (e.g., Support Vector Machines) that utilizes multiple kernel functions to handle heterogeneous data sources. Each kernel can capture different data characteristics.\n",
    "Purpose: To effectively integrate and learn from diverse data types by optimizing the combination of kernels, thereby improving model performance on complex datasets.\n",
    "\n"
   ],
   "id": "4f034f4a4f1d8fbd"
  },
  {
   "cell_type": "code",
   "id": "initial_id",
   "metadata": {
    "collapsed": true,
    "ExecuteTime": {
     "end_time": "2024-12-02T22:27:50.413583Z",
     "start_time": "2024-12-02T22:27:50.397811Z"
    }
   },
   "source": [
    "from sklearn.preprocessing import StandardScaler\n",
    "import pandas as pd\n",
    "import numpy as np\n",
    "from scipy.stats import mode\n",
    "from sklearn.decomposition import PCA\n",
    "import matplotlib.pyplot as plt\n",
    "from sklearn.preprocessing import LabelEncoder\n",
    "from sklearn.model_selection import train_test_split\n",
    "from imblearn.over_sampling import RandomOverSampler\n",
    "from sklearn.model_selection import GridSearchCV, StratifiedKFold\n",
    "from sklearn.ensemble import RandomForestClassifier, GradientBoostingClassifier\n",
    "from sklearn.linear_model import LogisticRegression\n",
    "from sklearn.neighbors import KNeighborsClassifier\n",
    "from sklearn.naive_bayes import GaussianNB\n",
    "from sklearn.tree import DecisionTreeClassifier\n",
    "from sklearn.model_selection import LeaveOneOut\n",
    "from sklearn.svm import SVC\n",
    "from collections import Counter\n",
    "from imblearn.over_sampling import SMOTE\n",
    "from sklearn.metrics import accuracy_score, precision_score, recall_score, f1_score\n",
    "from sklearn.metrics import make_scorer, balanced_accuracy_score"
   ],
   "outputs": [],
   "execution_count": 405
  },
  {
   "metadata": {
    "ExecuteTime": {
     "end_time": "2024-12-02T22:27:50.483519Z",
     "start_time": "2024-12-02T22:27:50.429674Z"
    }
   },
   "cell_type": "code",
   "source": [
    "# Load the antibody titers data (response profile)\n",
    "abtiters = pd.read_csv('../data/antibody_df.csv')\n",
    "print(\"Antibody titers data loaded. Shape:\", abtiters.shape)\n",
    "print(abtiters.head())\n",
    "\n",
    "# Load the cytokines data\n",
    "cytokines = pd.read_csv('../data/cytokines_data.csv')\n",
    "print(\"Cytokines data loaded. Shape:\", cytokines.shape)\n",
    "print(cytokines.head())\n",
    "\n",
    "# Load the cytometry data\n",
    "cytometry = pd.read_csv('../data/cyto_data.csv')\n",
    "print(\"Cytometry data loaded. Shape:\", cytometry.shape)\n",
    "print(cytometry.head())\n",
    "\n",
    "# Load clonal breadth data\n",
    "clonal_breadth = pd.read_csv('../data/clonal_breadth_data.csv')\n",
    "print(\"Clonal breadth data loaded. Shape:\", clonal_breadth.shape)\n",
    "print(clonal_breadth.head())\n",
    "# How many different TCR clonotypes (unique combinations of sequences, V/J genes, etc.) are specific to measles.\n",
    "\n",
    "# Load clonal depth data\n",
    "clonal_depth = pd.read_csv('../data/clonal_depth_data.csv')\n",
    "print(\"Clonal depth data loaded. Shape:\", clonal_depth.shape)\n",
    "print(clonal_depth.head())\n",
    "# The ratio of unique beta-chain sequences predicted to bind measles to the total number of clonotypes. \n",
    "# This focuses on the most important part of the TCR (the beta chain).\n",
    "\n",
    "# Load the module scores\n",
    "module_scores = pd.read_csv('../data/module_scores_model_input_all.csv') #calculate for Hepatitis B data\n",
    "print(\"Module scores loaded. Shape:\", module_scores.shape)\n",
    "print(module_scores.head())\n",
    "\n",
    "# Check the distribution of module scores\n",
    "print(\"Module score columns:\", module_scores.columns[1:10])\n",
    "\n",
    "datasets = {\n",
    "    \"antibody_titers\": abtiters,\n",
    "    \"cytokines\": cytokines,\n",
    "    \"cytometry\": cytometry,\n",
    "    \"clonal_breadth\": clonal_breadth,\n",
    "    \"clonal_depth\": clonal_depth,\n",
    "    \"RNa_data\": module_scores,\n",
    "}"
   ],
   "id": "9f840810cb5f17ea",
   "outputs": [
    {
     "name": "stdout",
     "output_type": "stream",
     "text": [
      "Antibody titers data loaded. Shape: (40, 12)\n",
      "        vaccine Vaccinee  Day 0  Day 21  Day 150  Day 365  diff: 21-0  \\\n",
      "0  Anti-Measles       M1    5.0   217.0     30.8     31.5       212.0   \n",
      "1  Anti-Measles      M11   17.9    30.1    300.0    214.0        12.2   \n",
      "2  Anti-Measles      M12  300.0   300.0    300.0    300.0         0.0   \n",
      "3  Anti-Measles      M13  227.0   300.0    236.0    300.0        73.0   \n",
      "4  Anti-Measles      M14   26.7   261.0    276.0    300.0       234.3   \n",
      "\n",
      "   diff: 150-21  diff: 365-150  response  protected               quadrant  \n",
      "0        -186.2            0.7      True       True              responder  \n",
      "1         269.9          -86.0     False      False   no response - low ab  \n",
      "2           0.0            0.0     False       True  no response - high ab  \n",
      "3         -64.0           64.0     False       True  no response - high ab  \n",
      "4          15.0           24.0      True       True              responder  \n",
      "Cytokines data loaded. Shape: (40, 41)\n",
      "  Vaccinee  CMV.Status  EBV.Status  HSV1_2.Status  HHV6.Status     EGF  \\\n",
      "0       M1           1           1              0            0  278.88   \n",
      "1       M2           1           1              0            0  238.38   \n",
      "2       M3           0           1              0            1   96.75   \n",
      "3       M4           0           0              0            1  376.30   \n",
      "4       M5           0           1              0            1  245.51   \n",
      "\n",
      "    FGF-2  Eotaxin  TGF-a   GCSF  ...   IL-6   IL-7   IL-8   IP-10   MCP-1  \\\n",
      "0  497.14   189.07  26.77  20.26  ...  19.40  14.77  57.72  111.55  379.73   \n",
      "1   33.20   206.11   2.09   2.36  ...   1.99   2.47  18.02  113.51  539.30   \n",
      "2  166.84    96.33   2.09   2.36  ...   1.99   2.47  14.43   80.61  322.33   \n",
      "3   33.20   315.78   2.13   2.36  ...   1.99   2.47  24.07  103.81  970.24   \n",
      "4  198.73   105.88   3.80   2.36  ...  11.16   2.56  23.04   66.37  299.30   \n",
      "\n",
      "   MIP1a   MIP1b   TNFa   TNFb    VEGF  \n",
      "0  44.27  217.44  65.00  40.74  337.44  \n",
      "1   2.92    3.14  15.43   1.98   33.19  \n",
      "2  16.17   25.33  14.39   1.98  136.31  \n",
      "3  16.81   22.42  20.96   1.98  140.64  \n",
      "4  27.36   77.58  10.81   1.98  202.09  \n",
      "\n",
      "[5 rows x 41 columns]\n",
      "Cytometry data loaded. Shape: (40, 33)\n",
      "  Vaccinee  WBC Day 0  RBC Day 0  HGB Day 0  HCT Day 0  PLT Day 0  %LYM Day 0  \\\n",
      "0       M1        4.2       4.24       12.2       36.6      234.0       0.488   \n",
      "1       M2        4.2       4.52       13.9       41.1      123.0       0.399   \n",
      "2       M3        4.1       5.22       16.2       48.9      221.0       0.407   \n",
      "3       M4        4.0       4.95       15.3       45.3      197.0       0.424   \n",
      "4       M5        4.8       4.00       12.1       36.0      245.0       0.410   \n",
      "\n",
      "   %MON Day 0  %GRA Day 0  WBC Day 21  ...  %MON Day 180  %GRA Day 180  \\\n",
      "0       0.058       0.454         4.3  ...         0.051         0.514   \n",
      "1       0.034       0.567         4.6  ...         0.031         0.595   \n",
      "2       0.067       0.526         4.0  ...         0.051         0.659   \n",
      "3       0.035       0.541         4.3  ...         0.044         0.532   \n",
      "4       0.033       0.557         4.8  ...         0.042         0.491   \n",
      "\n",
      "   WBC Day 365  RBC Day 365  HGB Day 365  HCT Day 365  PLT Day 365  \\\n",
      "0          4.2         4.52         12.8         38.9        303.0   \n",
      "1          3.9         4.65         13.7         42.2        163.0   \n",
      "2          4.6         4.99         15.2         46.1        258.0   \n",
      "3          4.2         4.81         14.6         44.0        182.0   \n",
      "4          4.0         4.08         12.2         35.9        221.0   \n",
      "\n",
      "   %LYM Day 365  %MON Day 365  %GRA Day 365  \n",
      "0         0.496         0.050         0.454  \n",
      "1         0.362         0.036         0.602  \n",
      "2         0.297         0.049         0.654  \n",
      "3         0.418         0.044         0.538  \n",
      "4         0.489         0.050         0.461  \n",
      "\n",
      "[5 rows x 33 columns]\n",
      "Clonal breadth data loaded. Shape: (27, 3)\n",
      "  Vaccinee  fraction_sequences_ab  fraction_sequences_gd\n",
      "0       M1               0.001558               0.019316\n",
      "1      M12               0.000992               0.011673\n",
      "2      M13               0.001333               0.009338\n",
      "3      M15               0.001361               0.007009\n",
      "4      M16               0.002010               0.000000\n",
      "Clonal depth data loaded. Shape: (27, 3)\n",
      "  Vaccinee  uniqueMoleculeFraction_ab  uniqueMoleculeFraction_gd\n",
      "0       M1                   0.003496                   0.003912\n",
      "1      M12                   0.000556                   0.002848\n",
      "2      M13                   0.000798                   0.003593\n",
      "3      M15                   0.001062                   0.000335\n",
      "4      M16                   0.001760                   0.000000\n",
      "Module scores loaded. Shape: (40, 1147)\n",
      "  Vaccinee  M10.1.Interferon_EXP0  M10.1.Interferon_EXP3  \\\n",
      "0       M1              -0.980424              -0.297495   \n",
      "1      M11              -0.503872              -0.163057   \n",
      "2      M12              -1.004049              -1.337458   \n",
      "3      M13              -1.854104              -1.395739   \n",
      "4      M14              -2.647573               9.380318   \n",
      "\n",
      "   M10.1.Interferon_EXP7  M10.2.Protein synthesis_EXP0  \\\n",
      "0              -0.969239                     -2.800537   \n",
      "1               0.840998                     -3.386755   \n",
      "2              -1.486799                      0.766483   \n",
      "3              -1.504187                      2.389723   \n",
      "4               1.879184                     -1.300973   \n",
      "\n",
      "   M10.2.Protein synthesis_EXP3  M10.2.Protein synthesis_EXP7  \\\n",
      "0                     -1.527414                     -4.576274   \n",
      "1                      0.431050                     -4.413065   \n",
      "2                      3.173829                      1.988797   \n",
      "3                      2.574309                      5.901190   \n",
      "4                      0.475519                      2.277167   \n",
      "\n",
      "   M10.3.Platelet_EXP0  M10.3.Platelet_EXP3  M10.3.Platelet_EXP7  ...  \\\n",
      "0            -2.649382            -3.386956            -3.421715  ...   \n",
      "1            -1.817845             2.176698            -2.663437  ...   \n",
      "2            -0.077014            -0.918437            -3.321714  ...   \n",
      "3             1.480104             1.393165             5.080002  ...   \n",
      "4            -2.507134            -0.481741            -0.122978  ...   \n",
      "\n",
      "   M8.2.Prostanoids_EXP7  M8.3.Type 1 Interferon_EXP0  \\\n",
      "0              -3.630050                    -1.750826   \n",
      "1               0.007107                     0.077094   \n",
      "2              -4.935804                    -1.332382   \n",
      "3               6.966034                    -1.481503   \n",
      "4              -1.457068                    -3.022494   \n",
      "\n",
      "   M8.3.Type 1 Interferon_EXP3  M8.3.Type 1 Interferon_EXP7  \\\n",
      "0                    -1.054270                    -1.414018   \n",
      "1                     0.076940                     0.061243   \n",
      "2                    -1.673696                    -2.283084   \n",
      "3                    -1.170628                    -1.285147   \n",
      "4                     5.156808                     0.356248   \n",
      "\n",
      "   M9.1.Cytotoxic lymphocytes_EXP0  M9.1.Cytotoxic lymphocytes_EXP3  \\\n",
      "0                         3.529086                         4.060304   \n",
      "1                        -7.191759                        -4.649744   \n",
      "2                         2.076533                         3.158169   \n",
      "3                         1.499603                         0.771687   \n",
      "4                        -3.224243                         0.169095   \n",
      "\n",
      "   M9.1.Cytotoxic lymphocytes_EXP7  M9.2.Erythroid cells_EXP0  \\\n",
      "0                        -0.182752                  -2.774529   \n",
      "1                        -4.655732                  -4.818251   \n",
      "2                         3.091897                  -6.819399   \n",
      "3                         4.172787                  -3.248814   \n",
      "4                         0.434359                  -3.991534   \n",
      "\n",
      "   M9.2.Erythroid cells_EXP3  M9.2.Erythroid cells_EXP7  \n",
      "0                  -0.995874                  -1.594241  \n",
      "1                  -2.221877                  -6.607284  \n",
      "2                  -0.623428                  -5.005777  \n",
      "3                   0.478189                   5.757795  \n",
      "4                   0.031401                  -1.164348  \n",
      "\n",
      "[5 rows x 1147 columns]\n",
      "Module score columns: Index(['M10.1.Interferon_EXP0', 'M10.1.Interferon_EXP3',\n",
      "       'M10.1.Interferon_EXP7', 'M10.2.Protein synthesis_EXP0',\n",
      "       'M10.2.Protein synthesis_EXP3', 'M10.2.Protein synthesis_EXP7',\n",
      "       'M10.3.Platelet_EXP0', 'M10.3.Platelet_EXP3', 'M10.3.Platelet_EXP7'],\n",
      "      dtype='object')\n"
     ]
    }
   ],
   "execution_count": 406
  },
  {
   "metadata": {
    "ExecuteTime": {
     "end_time": "2024-12-02T22:27:50.762695Z",
     "start_time": "2024-12-02T22:27:50.590252Z"
    }
   },
   "cell_type": "code",
   "source": [
    "# Count the frequency of each label\n",
    "abtiters['response_label'] = abtiters['quadrant'].apply(lambda x: 'response' if x == 'responder' else 'no response')\n",
    "\n",
    "# Count the frequency of each label\n",
    "response_counts = abtiters['response_label'].value_counts()\n",
    "\n",
    "print(\"\\nFrequency of responses:\")\n",
    "print(response_counts)\n",
    "\n",
    "# Plot the frequency of high vs. low responses as a bar plot\n",
    "plt.figure(figsize=(8, 6))\n",
    "response_counts.plot(kind='bar', color=['orange', 'blue'])\n",
    "plt.title('Frequency of High vs Low Titer Responses')\n",
    "plt.xlabel('Response Label')\n",
    "plt.ylabel('Frequency')\n",
    "plt.xticks(rotation=0)\n",
    "plt.grid(True)\n",
    "plt.show()\n",
    "\n",
    "colors = {'response': 'blue', 'no response': 'orange'}\n",
    "plt.figure(figsize=(8, 6))\n",
    "for label, group in abtiters.groupby('response_label'):\n",
    "    plt.scatter(group['Day 0'], group['Day 21'], color=colors[label], label=label)\n",
    "\n",
    "# Plot reference line y = x\n",
    "plt.plot([0, max(abtiters['Day 0'])], [0, max(abtiters['Day 21'])], color='red', linestyle='-', linewidth=1)\n",
    "\n",
    "# Labeling and legend\n",
    "plt.xlabel('Day 0')\n",
    "plt.ylabel('Day 21')\n",
    "plt.legend(title=\"Titer Response\")\n",
    "plt.show()"
   ],
   "id": "3297cc07ddb680b7",
   "outputs": [
    {
     "name": "stdout",
     "output_type": "stream",
     "text": [
      "\n",
      "Frequency of responses:\n",
      "response_label\n",
      "no response    29\n",
      "response       11\n",
      "Name: count, dtype: int64\n"
     ]
    },
    {
     "data": {
      "text/plain": [
       "<Figure size 800x600 with 1 Axes>"
      ],
      "image/png": "[encoded data removed]"
     },
     "metadata": {},
     "output_type": "display_data"
    },
    {
     "data": {
      "text/plain": [
       "<Figure size 800x600 with 1 Axes>"
      ],
      "image/png": "[encoded data removed]"
     },
     "metadata": {},
     "output_type": "display_data"
    }
   ],
   "execution_count": 407
  },
  {
   "metadata": {
    "ExecuteTime": {
     "end_time": "2024-12-02T22:27:50.868128Z",
     "start_time": "2024-12-02T22:27:50.864798Z"
    }
   },
   "cell_type": "code",
   "source": [
    "abtiters = abtiters.drop(columns=['vaccine', 'Day 0', 'Day 21', 'Day 150', 'Day 365', 'diff: 21-0', 'diff: 150-21', 'diff: 365-150', 'response', 'protected','quadrant'])\n",
    "## cytokines already loaded ##\n",
    "cytometry = cytometry[['Vaccinee', 'WBC Day 0','RBC Day 0','HGB Day 0','HCT Day 0','PLT Day 0','%LYM Day 0','%MON Day 0','%GRA Day 0']]\n",
    "\n",
    "datasets['antibody_titers'] = abtiters\n",
    "datasets['cytometry'] = cytometry"
   ],
   "id": "ece9cb53ddbec7e3",
   "outputs": [],
   "execution_count": 408
  },
  {
   "metadata": {},
   "cell_type": "markdown",
   "source": "### calculate a module score and comapare",
   "id": "fde22cb209ad33c6"
  },
  {
   "metadata": {
    "ExecuteTime": {
     "end_time": "2024-12-02T22:27:50.966417Z",
     "start_time": "2024-12-02T22:27:50.961214Z"
    }
   },
   "cell_type": "code",
   "source": [
    "def create_RNa_module_scores(read_count_path, module_scores_path, output_path_path):\n",
    "\n",
    "    # Load data\n",
    "    read_counts = pd.read_csv(read_count_path, index_col=0)  # Patients as rows, genes as columns\n",
    "    module_list = pd.read_csv(module_scores_path)  # Contains columns 'Module', 'Gene', 'Function'\n",
    "    \n",
    "    # Ensure columns are strings for consistency\n",
    "    read_counts.columns = read_counts.columns.astype(str)\n",
    "    \n",
    "    module_scores = []\n",
    "\n",
    "    for module in module_list['Module'].unique():\n",
    "        # Get the module's function\n",
    "        module_function = module_list.loc[module_list['Module'] == module, 'Function'].iloc[0]\n",
    "        module_genes = module_list[module_list['Module'] == module]['Gene']\n",
    "        common_genes = [gene for gene in module_genes if gene in read_counts.columns]\n",
    "    \n",
    "        if not common_genes:\n",
    "            print(f\"No overlapping genes found for module {module}. Skipping.\")\n",
    "            continue\n",
    "    \n",
    "        # Subset read_counts for the genes in this module\n",
    "        module_data = read_counts[common_genes]\n",
    "        \n",
    "        # Standardize the data\n",
    "        scaler = StandardScaler()\n",
    "        standardized_data = scaler.fit_transform(module_data)\n",
    "        \n",
    "        # Perform 1D PCA\n",
    "        pca = PCA(n_components=1)\n",
    "        pca_scores = pca.fit_transform(standardized_data)\n",
    "        \n",
    "        # Store results with module name and function\n",
    "        module_scores.append(pd.DataFrame(\n",
    "            pca_scores,\n",
    "            index=read_counts.index,\n",
    "            columns=[f\"{module}.{module_function}\"]\n",
    "        ))\n",
    "    \n",
    "    # Combine all module scores into a single DataFrame\n",
    "    module_scores_df = pd.concat(module_scores, axis=1)\n",
    "    module_scores_df = module_scores_df.copy()\n",
    "    \n",
    "    # ---- pivoting logic -----\n",
    "    \n",
    "    # Extract 'Vaccinee' and 'TimePoint' from the index\n",
    "    module_scores_df['TimePoint'] = module_scores_df.index.str.extract(r'_EXP(\\d+)$', expand=False)\n",
    "    module_scores_df['Vaccinee'] = module_scores_df.index.str.replace(r'_EXP\\d+$', '', regex=True)\n",
    "    \n",
    "    # Reshape the data from long to wide format\n",
    "    module_scores_df.reset_index(drop=True, inplace=True)  # Remove the old index\n",
    "    wide_format = module_scores_df.pivot(index='Vaccinee', columns='TimePoint')\n",
    "    \n",
    "    # Flatten the MultiIndex in columns\n",
    "    wide_format.columns = [\n",
    "        f\"{col[0]}_EXP{col[1]}\" for col in wide_format.columns\n",
    "    ]\n",
    "    \n",
    "    # Reset index to make 'Vaccinee' a column\n",
    "    wide_format.reset_index(inplace=True)\n",
    "    \n",
    "    # Save the transformed data\n",
    "    wide_format.to_csv(output_path_path, index=False)\n",
    "    print(f\"Transformed data saved as '{output_path_path}'\")"
   ],
   "id": "e1182ae7090d752f",
   "outputs": [],
   "execution_count": 409
  },
  {
   "metadata": {
    "ExecuteTime": {
     "end_time": "2024-12-02T22:27:53.150922Z",
     "start_time": "2024-12-02T22:27:51.057734Z"
    }
   },
   "cell_type": "code",
   "source": [
    "create_RNa_module_scores(read_count_path = \"../data/processed_readcounts_collapsed.csv\", \n",
    "                         module_scores_path= \"../data/module_list.csv\", \n",
    "                         output_path_path= \"../data_created/module_scores_model_input_all_self_made.csv\")\n",
    "\n",
    "rna_data = pd.read_csv(\"../data_created/module_scores_model_input_all_self_made.csv\")\n",
    "datasets[\"RNa_data\"] = rna_data"
   ],
   "id": "5c18eff2b52f8222",
   "outputs": [
    {
     "name": "stdout",
     "output_type": "stream",
     "text": [
      "Transformed data saved as '../data_created/module_scores_model_input_all_self_made.csv'\n"
     ]
    }
   ],
   "execution_count": 410
  },
  {
   "metadata": {},
   "cell_type": "markdown",
   "source": "### 1. Consensus Between Different Models",
   "id": "3d2f8f402ce3005b"
  },
  {
   "metadata": {
    "ExecuteTime": {
     "end_time": "2024-12-02T22:27:53.246132Z",
     "start_time": "2024-12-02T22:27:53.241184Z"
    }
   },
   "cell_type": "code",
   "source": [
    "# Merge datasets with the labels\n",
    "cytokines_merged = pd.merge(datasets['antibody_titers'], datasets['cytokines'], on='Vaccinee')\n",
    "cytometry_merged = pd.merge(datasets['antibody_titers'], datasets['cytometry'], on='Vaccinee')\n",
    "#clonal_breadth_merged = pd.merge(datasets['antibody_titers'], datasets['clonal_breadth'], on='Vaccinee') #for now because they only contain 27 values\n",
    "#clonal_depth_merged = pd.merge(datasets['antibody_titers'], datasets['clonal_depth'], on='Vaccinee') #for now because they only contain 27 values\n",
    "rna_merged = pd.merge(datasets['antibody_titers'], datasets['RNa_data'], on='Vaccinee')"
   ],
   "id": "88c10aaeb3bb9ec7",
   "outputs": [],
   "execution_count": 411
  },
  {
   "metadata": {
    "ExecuteTime": {
     "end_time": "2024-12-02T22:27:53.341303Z",
     "start_time": "2024-12-02T22:27:53.337473Z"
    }
   },
   "cell_type": "code",
   "source": [
    "# Function to check missing values\n",
    "def check_missing_values(df, dataset_name):\n",
    "    missing = df.isnull().sum()\n",
    "    missing = missing[missing > 0]\n",
    "    if not missing.empty:\n",
    "        print(f\"Missing values in {dataset_name}:\")\n",
    "        print(missing)\n",
    "    else:\n",
    "        print(f\"No missing values in {dataset_name}.\")\n",
    "\n",
    "# Check for missing values\n",
    "check_missing_values(cytokines_merged, 'Cytokines Merged')\n",
    "check_missing_values(cytometry_merged, 'Cytometry Merged')\n",
    "#check_missing_values(clonal_breadth_merged, 'Clonal Breadth Merged')\n",
    "#check_missing_values(clonal_depth_merged, 'Clonal Depth Merged')\n",
    "check_missing_values(rna_merged, 'RNA Merged')"
   ],
   "id": "5bff6eb3258ec6e7",
   "outputs": [
    {
     "name": "stdout",
     "output_type": "stream",
     "text": [
      "No missing values in Cytokines Merged.\n",
      "No missing values in Cytometry Merged.\n",
      "No missing values in RNA Merged.\n"
     ]
    }
   ],
   "execution_count": 412
  },
  {
   "metadata": {
    "ExecuteTime": {
     "end_time": "2024-12-02T22:27:53.746298Z",
     "start_time": "2024-12-02T22:27:53.744499Z"
    }
   },
   "cell_type": "code",
   "source": "#TODO look at correlations and compress data",
   "id": "95d63a62eac04487",
   "outputs": [],
   "execution_count": 413
  },
  {
   "metadata": {
    "ExecuteTime": {
     "end_time": "2024-12-02T22:27:53.753188Z",
     "start_time": "2024-12-02T22:27:53.750253Z"
    }
   },
   "cell_type": "code",
   "source": [
    "def encode_labels(df):\n",
    "    le = LabelEncoder()\n",
    "    df['response_label'] = le.fit_transform(df['response_label'])\n",
    "    return df\n",
    "\n",
    "# Encode labels if necessary\n",
    "cytokines_merged = encode_labels(cytokines_merged)\n",
    "cytometry_merged = encode_labels(cytometry_merged)\n",
    "# clonal_breadth_merged = encode_labels(clonal_breadth_merged)\n",
    "# clonal_depth_merged = encode_labels(clonal_depth_merged)\n",
    "rna_merged = encode_labels(rna_merged)"
   ],
   "id": "44fe73a187be9314",
   "outputs": [],
   "execution_count": 414
  },
  {
   "metadata": {
    "ExecuteTime": {
     "end_time": "2024-12-02T22:27:53.898313Z",
     "start_time": "2024-12-02T22:27:53.843683Z"
    }
   },
   "cell_type": "code",
   "source": [
    "# Let's get the list of vaccinees to use as indices\n",
    "\n",
    "balanced_test_set = False\n",
    "if not balanced_test_set:\n",
    "    # to just shiffle randomly\n",
    "    vaccinees = abtiters['Vaccinee']\n",
    "    train_vaccinees, test_vaccinees = train_test_split(vaccinees, test_size=0.2, random_state=42, stratify=abtiters['response_label'])\n",
    "else:\n",
    "    # Define the desired number of samples per class in the test set\n",
    "    test_samples_per_class = 4  # 4 positive + 4 negative = 8 total\n",
    "    \n",
    "    # Separate positive and negative samples\n",
    "    positive_samples = abtiters[abtiters['response_label'] == 'response']\n",
    "    negative_samples = abtiters[abtiters['response_label'] == 'no response']\n",
    "    \n",
    "    # Ensure there are enough samples to meet the requirement\n",
    "    assert len(positive_samples) >= test_samples_per_class, \"Not enough positive samples for the test set\"\n",
    "    assert len(negative_samples) >= test_samples_per_class, \"Not enough negative samples for the test set\"\n",
    "    \n",
    "    # Randomly sample the test set for each class\n",
    "    pos_test = positive_samples.sample(n=test_samples_per_class, random_state=42)\n",
    "    neg_test = negative_samples.sample(n=test_samples_per_class, random_state=42)\n",
    "    \n",
    "    # Define the test set by combining positive and negative samples\n",
    "    test_set = pd.concat([pos_test, neg_test])\n",
    "    \n",
    "    # Define the train set by excluding the test samples\n",
    "    train_set = abtiters.drop(test_set.index)\n",
    "    \n",
    "    # Shuffle the train and test sets to ensure randomness\n",
    "    train_set = train_set.sample(frac=1, random_state=42)\n",
    "    test_set = test_set.sample(frac=1, random_state=42)\n",
    "    \n",
    "    train_vaccinees = pd.Series(train_set['Vaccinee'].values, index=train_set.index, name=\"Train Vaccinee\")\n",
    "    test_vaccinees = pd.Series(test_set['Vaccinee'].values, index=test_set.index, name=\"Test Vaccinee\")\n",
    "    \n",
    "    # Print distributions for verification\n",
    "    print(\"Train set distribution:\")\n",
    "    print(train_set['response_label'].value_counts())\n",
    "    print(\"\\nTest set distribution:\")\n",
    "    print(test_set['response_label'].value_counts())\n",
    "\n",
    "def split_dataset(df, oversampling_method = None):\n",
    "    # Use the pre-defined train and test vaccinees\n",
    "    train_df = df[df['Vaccinee'].isin(train_vaccinees)]\n",
    "    test_df = df[df['Vaccinee'].isin(test_vaccinees)]\n",
    "    \n",
    "    # Separate features and labels\n",
    "    X_train = train_df.drop(['Vaccinee', 'response_label'], axis=1)\n",
    "    y_train = train_df['response_label']\n",
    "    X_test = test_df.drop(['Vaccinee', 'response_label'], axis=1)\n",
    "    y_test = test_df['response_label']\n",
    "    \n",
    "    X_train_resampled = None\n",
    "    y_train_resampled = None\n",
    "    \n",
    "    if oversampling_method is not None:\n",
    "        if oversampling_method == 'smote':\n",
    "            # Perform oversampling on the training data\n",
    "            sm = SMOTE(random_state=42)\n",
    "            X_train_resampled, y_train_resampled = sm.fit_resample(X_train, y_train)\n",
    "        \n",
    "        elif oversampling_method == 'random':\n",
    "            # Perform random oversampling on the training data (simply duplicates existing minority class samples)\n",
    "            ros = RandomOverSampler(random_state=42)\n",
    "            X_train_resampled, y_train_resampled = ros.fit_resample(X_train, y_train)\n",
    "        # After oversampling\n",
    "        print(f\"Resampled class distribution using {oversampling_method}: {Counter(y_train_resampled)}\")\n",
    "    else:\n",
    "        X_train_resampled = X_train\n",
    "        y_train_resampled = y_train\n",
    "    \n",
    "        \n",
    "    \n",
    "    return X_train_resampled, X_test, y_train_resampled, y_test\n",
    "\n",
    "# Split each dataset\n",
    "X_train_cyto, X_test_cyto, y_train_cyto, y_test_cyto = split_dataset(cytokines_merged, oversampling_method='smote')\n",
    "X_train_cytom, X_test_cytom, y_train_cytom, y_test_cytom = split_dataset(cytometry_merged, oversampling_method='smote')\n",
    "# X_train_cb, X_test_cb, y_train_cb, y_test_cb = split_dataset(clonal_breadth_merged, oversampling_method='smote')\n",
    "# X_train_cd, X_test_cd, y_train_cd, y_test_cd = split_dataset(clonal_depth_merged, oversampling_method='smote')\n",
    "X_train_rna, X_test_rna, y_train_rna, y_test_rna = split_dataset(rna_merged, oversampling_method='smote')\n"
   ],
   "id": "c0ea1ffc50c0a59e",
   "outputs": [
    {
     "name": "stdout",
     "output_type": "stream",
     "text": [
      "Resampled class distribution using smote: Counter({1: 23, 0: 23})\n",
      "Resampled class distribution using smote: Counter({1: 23, 0: 23})\n",
      "Resampled class distribution using smote: Counter({1: 23, 0: 23})\n"
     ]
    }
   ],
   "execution_count": 415
  },
  {
   "metadata": {
    "ExecuteTime": {
     "end_time": "2024-12-02T22:27:54.018772Z",
     "start_time": "2024-12-02T22:27:53.990741Z"
    }
   },
   "cell_type": "code",
   "source": [
    "scaler = StandardScaler()\n",
    "\n",
    "def scale_features(X_train, X_test):\n",
    "    X_train_scaled = scaler.fit_transform(X_train)\n",
    "    X_test_scaled = scaler.transform(X_test)\n",
    "    return X_train_scaled, X_test_scaled\n",
    "\n",
    "# Scale features\n",
    "X_train_cyto_scaled, X_test_cyto_scaled = scale_features(X_train_cyto, X_test_cyto)\n",
    "X_train_cytom_scaled, X_test_cytom_scaled = scale_features(X_train_cytom, X_test_cytom)\n",
    "# X_train_cb_scaled, X_test_cb_scaled = scale_features(X_train_cb, X_test_cb)\n",
    "# X_train_cd_scaled, X_test_cd_scaled = scale_features(X_train_cd, X_test_cd)\n",
    "X_train_rna_scaled, X_test_rna_scaled = scale_features(X_train_rna, X_test_rna)"
   ],
   "id": "add7cf3c3741b7f3",
   "outputs": [],
   "execution_count": 416
  },
  {
   "metadata": {
    "ExecuteTime": {
     "end_time": "2024-12-02T22:28:02.538693Z",
     "start_time": "2024-12-02T22:27:54.102090Z"
    }
   },
   "cell_type": "code",
   "source": [
    "from sklearn.model_selection import cross_val_score\n",
    "\n",
    "def train_and_predict_best_model(X_train, y_train, X_test, data_name):\n",
    "    import warnings\n",
    "    warnings.filterwarnings('ignore')\n",
    "    \n",
    "    # Define models with balanced class weights where applicable\n",
    "    models = {\n",
    "        'Random Forest': RandomForestClassifier(random_state=42, class_weight='balanced'),\n",
    "        'Logistic Regression': LogisticRegression(random_state=42, max_iter=1000, class_weight='balanced'),\n",
    "        'SVM': SVC(random_state=42, class_weight='balanced', probability=True),\n",
    "        'Decision Tree': DecisionTreeClassifier(random_state=42, class_weight='balanced'),\n",
    "        'KNN': KNeighborsClassifier(),\n",
    "        'Naive Bayes': GaussianNB()\n",
    "    }\n",
    "    \n",
    "    # Initialize variables to store the best model\n",
    "    best_score = -1\n",
    "    best_model = None\n",
    "    best_model_name = None\n",
    "    \n",
    "    # Define Leave-One-Out Cross-Validation\n",
    "    loo = LeaveOneOut()\n",
    "    \n",
    "    # Define balanced accuracy scorer\n",
    "    scoring = make_scorer(balanced_accuracy_score)\n",
    "    \n",
    "    for name, model in models.items():\n",
    "        scores = cross_val_score(model, X_train, y_train, cv=loo, scoring=scoring)\n",
    "        score = scores.mean()\n",
    "        estimator = model.fit(X_train, y_train)\n",
    "        \n",
    "        # Update the best model if current model has a higher score\n",
    "        if score > best_score:\n",
    "            best_score = score\n",
    "            best_model = estimator\n",
    "            best_model_name = name\n",
    "    \n",
    "    # Print the best model details\n",
    "    print(f\"Best model for '{data_name}': {best_model_name} with balanced accuracy {best_score:.4f}\")\n",
    "    \n",
    "    # Predict using the best model on the entire dataset\n",
    "    y_pred = best_model.predict(X_test)\n",
    "    \n",
    "    return y_pred, best_model_name, best_model\n",
    "\n",
    "y_pred_cyto, _, _ = train_and_predict_best_model(X_train_cyto_scaled, y_train_cyto, X_test_cyto_scaled, \"cytokines\")\n",
    "y_pred_cytom, _, _ = train_and_predict_best_model(X_train_cytom_scaled, y_train_cytom, X_test_cytom_scaled, \"cytometry\")\n",
    "# y_pred_cb, _, _ = train_and_predict_best_model(X_train_cb_scaled, y_train_cb, X_test_cb_scaled, \"clonal breadth\")\n",
    "# y_pred_cd, _, _ = train_and_predict_best_model(X_train_cd_scaled, y_train_cd, X_test_cd_scaled, \"clonal depth\")\n",
    "y_pred_rna, _, _ = train_and_predict_best_model(X_train_rna_scaled, y_train_rna, X_test_rna_scaled, \"rna\")"
   ],
   "id": "1fd6740923965c5e",
   "outputs": [
    {
     "name": "stdout",
     "output_type": "stream",
     "text": [
      "Best model for 'cytokines': Random Forest with balanced accuracy 0.8043\n",
      "Best model for 'cytometry': Naive Bayes with balanced accuracy 0.8478\n",
      "Best model for 'rna': Decision Tree with balanced accuracy 0.8696\n"
     ]
    }
   ],
   "execution_count": 417
  },
  {
   "metadata": {
    "ExecuteTime": {
     "end_time": "2024-12-02T22:28:02.627341Z",
     "start_time": "2024-12-02T22:28:02.624199Z"
    }
   },
   "cell_type": "code",
   "source": [
    "# Stack predictions\n",
    "predictions = np.column_stack((y_pred_cyto, y_pred_cytom, y_pred_rna)) #  y_pred_cb, y_pred_cd\n",
    "\n",
    "# Majority vote\n",
    "y_pred_consensus, _ = mode(predictions, axis=1)\n",
    "y_pred_consensus = y_pred_consensus.ravel()"
   ],
   "id": "acaca6514aac28de",
   "outputs": [],
   "execution_count": 418
  },
  {
   "metadata": {
    "ExecuteTime": {
     "end_time": "2024-12-02T22:28:02.711660Z",
     "start_time": "2024-12-02T22:28:02.708974Z"
    }
   },
   "cell_type": "code",
   "source": [
    "def evaluate_model(y_true, y_pred, model_name):\n",
    "    acc = accuracy_score(y_true, y_pred)\n",
    "    prec = precision_score(y_true, y_pred, zero_division=0)\n",
    "    rec = recall_score(y_true, y_pred, zero_division=0)\n",
    "    f1 = f1_score(y_true, y_pred, zero_division=0)\n",
    "    print(f\"{model_name} Performance:\")\n",
    "    print(f\"Accuracy: {acc:.4f}\")\n",
    "    print(f\"Precision: {prec:.4f}\")\n",
    "    print(f\"Recall: {rec:.4f}\")\n",
    "    print(f\"F1-Score: {f1:.4f}\\n\")"
   ],
   "id": "d1bc99b8d04906a8",
   "outputs": [],
   "execution_count": 419
  },
  {
   "metadata": {
    "ExecuteTime": {
     "end_time": "2024-12-02T22:28:02.792149Z",
     "start_time": "2024-12-02T22:28:02.790311Z"
    }
   },
   "cell_type": "code",
   "source": "y_test = y_test_cyto.values # Because they are all e the same",
   "id": "1e9b4796e877135f",
   "outputs": [],
   "execution_count": 420
  },
  {
   "metadata": {
    "ExecuteTime": {
     "end_time": "2024-12-02T22:28:02.886823Z",
     "start_time": "2024-12-02T22:28:02.875342Z"
    }
   },
   "cell_type": "code",
   "source": [
    "# Evaluate separate models\n",
    "evaluate_model(y_test, y_pred_cyto, 'Cytokines Model')\n",
    "evaluate_model(y_test, y_pred_cytom, 'Cytometry Model')\n",
    "# evaluate_model(y_test, y_pred_cb, 'Clonal Breadth Model')\n",
    "# evaluate_model(y_test, y_pred_cd, 'Clonal Depth Model')\n",
    "evaluate_model(y_test, y_pred_rna, 'RNA Data Model')\n",
    "\n",
    "# Evaluate consensus model\n",
    "evaluate_model(y_test, y_pred_consensus, 'Consensus Model')\n",
    "\n",
    "print(f\"truth:\\t\\t { y_test_cyto.values }\")\n",
    "print(f\"cytokines: { y_pred_cyto }\")\n",
    "print(f\"cytometry: { y_pred_cytom }\")\n",
    "print(f\"rna:\\t\\t\\t { y_pred_rna }\")\n",
    "print(f\"Consensus: { y_pred_consensus }\")\n"
   ],
   "id": "a08b549cf042c6f7",
   "outputs": [
    {
     "name": "stdout",
     "output_type": "stream",
     "text": [
      "Cytokines Model Performance:\n",
      "Accuracy: 0.7500\n",
      "Precision: 0.0000\n",
      "Recall: 0.0000\n",
      "F1-Score: 0.0000\n",
      "\n",
      "Cytometry Model Performance:\n",
      "Accuracy: 0.8750\n",
      "Precision: 1.0000\n",
      "Recall: 0.5000\n",
      "F1-Score: 0.6667\n",
      "\n",
      "RNA Data Model Performance:\n",
      "Accuracy: 0.7500\n",
      "Precision: 0.0000\n",
      "Recall: 0.0000\n",
      "F1-Score: 0.0000\n",
      "\n",
      "Consensus Model Performance:\n",
      "Accuracy: 0.7500\n",
      "Precision: 0.0000\n",
      "Recall: 0.0000\n",
      "F1-Score: 0.0000\n",
      "\n",
      "truth:\t\t [0 0 0 0 0 0 1 1]\n",
      "cytokines: [0 0 0 0 0 0 0 0]\n",
      "cytometry: [0 0 0 0 0 0 0 1]\n",
      "rna:\t\t\t [0 0 0 0 0 0 0 0]\n",
      "Consensus: [0 0 0 0 0 0 0 0]\n"
     ]
    }
   ],
   "execution_count": 421
  },
  {
   "metadata": {
    "ExecuteTime": {
     "end_time": "2024-12-02T22:28:02.981404Z",
     "start_time": "2024-12-02T22:28:02.968876Z"
    }
   },
   "cell_type": "code",
   "source": [
    "results = pd.DataFrame({\n",
    "    'Model': ['Cytokines', 'Cytometry', 'RNA Data', 'Consensus'], # 'Clonal Breadth', 'Clonal Depth'\n",
    "    'Accuracy': [\n",
    "        accuracy_score(y_test, y_pred_cyto),\n",
    "        accuracy_score(y_test, y_pred_cytom),\n",
    "        # accuracy_score(y_test, y_pred_cb),\n",
    "        # accuracy_score(y_test, y_pred_cd),\n",
    "        accuracy_score(y_test, y_pred_rna),\n",
    "        accuracy_score(y_test, y_pred_consensus)\n",
    "    ],\n",
    "    'Precision': [\n",
    "        precision_score(y_test, y_pred_cyto, zero_division=0),\n",
    "        precision_score(y_test, y_pred_cytom, zero_division=0),\n",
    "        # precision_score(y_test, y_pred_cb, zero_division=0),\n",
    "        # precision_score(y_test, y_pred_cd, zero_division=0),\n",
    "        precision_score(y_test, y_pred_rna, zero_division=0),\n",
    "        precision_score(y_test, y_pred_consensus, zero_division=0)\n",
    "    ],\n",
    "    'Recall': [\n",
    "        recall_score(y_test, y_pred_cyto, zero_division=0),\n",
    "        recall_score(y_test, y_pred_cytom, zero_division=0),\n",
    "        # recall_score(y_test, y_pred_cb, zero_division=0),\n",
    "        # recall_score(y_test, y_pred_cd, zero_division=0),\n",
    "        recall_score(y_test, y_pred_rna, zero_division=0),\n",
    "        recall_score(y_test, y_pred_consensus, zero_division=0)\n",
    "    ],\n",
    "    'F1-Score': [\n",
    "        f1_score(y_test, y_pred_cyto, zero_division=0),\n",
    "        f1_score(y_test, y_pred_cytom, zero_division=0),\n",
    "        # f1_score(y_test, y_pred_cb, zero_division=0),\n",
    "        # f1_score(y_test, y_pred_cd, zero_division=0),\n",
    "        f1_score(y_test, y_pred_rna, zero_division=0),\n",
    "        f1_score(y_test, y_pred_consensus, zero_division=0)\n",
    "    ]\n",
    "})\n",
    "\n",
    "print(results)\n"
   ],
   "id": "a87a227a5f324100",
   "outputs": [
    {
     "name": "stdout",
     "output_type": "stream",
     "text": [
      "       Model  Accuracy  Precision  Recall  F1-Score\n",
      "0  Cytokines     0.750        0.0     0.0  0.000000\n",
      "1  Cytometry     0.875        1.0     0.5  0.666667\n",
      "2   RNA Data     0.750        0.0     0.0  0.000000\n",
      "3  Consensus     0.750        0.0     0.0  0.000000\n"
     ]
    }
   ],
   "execution_count": 422
  }
 ],
 "metadata": {
  "kernelspec": {
   "display_name": "Python 3",
   "language": "python",
   "name": "python3"
  },
  "language_info": {
   "codemirror_mode": {
    "name": "ipython",
    "version": 2
   },
   "file_extension": ".py",
   "mimetype": "text/x-python",
   "name": "python",
   "nbconvert_exporter": "python",
   "pygments_lexer": "ipython2",
   "version": "2.7.6"
  }
 },
 "nbformat": 4,
 "nbformat_minor": 5
}
