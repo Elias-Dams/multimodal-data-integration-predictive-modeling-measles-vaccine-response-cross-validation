{
 "cells": [
  {
   "metadata": {},
   "cell_type": "markdown",
   "source": [
    "# Cross Vaccine markers\n",
    "\n",
    "I'm going yo look at stable features."
   ],
   "id": "2d6524e3cd4b25fd"
  },
  {
   "metadata": {
    "ExecuteTime": {
     "end_time": "2025-03-03T12:49:39.413473Z",
     "start_time": "2025-03-03T12:49:39.410365Z"
    }
   },
   "cell_type": "code",
   "source": [
    "import pandas as pd\n",
    "import glob\n",
    "import os\n",
    "import json\n",
    "\n",
    "from PIL.features import features"
   ],
   "id": "61508b0f5d5334cc",
   "outputs": [],
   "execution_count": 79
  },
  {
   "cell_type": "code",
   "id": "initial_id",
   "metadata": {
    "collapsed": true,
    "ExecuteTime": {
     "end_time": "2025-03-03T12:49:39.527154Z",
     "start_time": "2025-03-03T12:49:39.432471Z"
    }
   },
   "source": [
    "def aggregate_shap_features(folder_path, threshold=3):\n",
    "    # List all CSV files that match your pattern in the folder\n",
    "    files = glob.glob(os.path.join(folder_path, \"*2_label_Consensus_*_.csv\")) # \"*SMOTE_*_TEST.csv\"\n",
    "    print(files)\n",
    "    if not files:\n",
    "        print(\"No files found in\", folder_path)\n",
    "        return None\n",
    "\n",
    "    # Read and concatenate all SHAP files\n",
    "    dfs = [pd.read_csv(file) for file in files]\n",
    "    all_shap = pd.concat(dfs, ignore_index=True)\n",
    "    \n",
    "    # Group by Model and Feature to compute frequency and mean importance\n",
    "    robust_features = (\n",
    "        all_shap.groupby(['Model', 'Feature'])\n",
    "        .agg(frequency=('Feature', 'count'),\n",
    "             mean_importance=('Importance', 'mean'))\n",
    "        .reset_index()\n",
    "    )\n",
    "    \n",
    "    robust_dict = {}\n",
    "    for model in robust_features['Model'].unique():\n",
    "        model_features = robust_features[robust_features['Model'] == model]\n",
    "        robust = model_features[model_features['frequency'] >= threshold]\n",
    "        robust = robust.sort_values(by='mean_importance', ascending=False)\n",
    "        robust_dict[model] = robust\n",
    "        print(f\"\\nRobust features for {model} (appearing in at least {threshold} runs):\")\n",
    "        print(robust)\n",
    "    \n",
    "    def process_files(file_list, cols):\n",
    "        dfs = []\n",
    "        for file in file_list:\n",
    "            df = pd.read_csv(file)\n",
    "            # Ensure that \"Model\" and all required columns exist in the file\n",
    "            if \"Data\" in df.columns and all(col in df.columns for col in cols):\n",
    "                dfs.append(df[[\"Data\"] + cols])\n",
    "        if dfs:\n",
    "            combined = pd.concat(dfs, ignore_index=True)\n",
    "            # Group by Model and compute the mean for the specified columns\n",
    "            return combined.groupby(\"Data\")[cols].mean().reset_index()\n",
    "        else:\n",
    "            return pd.DataFrame()\n",
    "    \n",
    "    # Define the folder path where your Measles result files are stored\n",
    "    folder_path = \"../data_created/best_models/results/Measles/\"\n",
    "    \n",
    "    # List all CSV files matching your pattern in the folder\n",
    "    all_files = glob.glob(os.path.join(folder_path, \"*2_label_Consensus_*__.csv\"))\n",
    "    \n",
    "    # Separate files into train and test based on the filename\n",
    "    train_files = [file for file in all_files if \"train\" in os.path.basename(file).lower()]\n",
    "    test_files  = [file for file in all_files if \"test\" in os.path.basename(file).lower()]\n",
    "    \n",
    "    # Aggregate average metrics per model for train and test separately using dynamic column lists.\n",
    "    avg_train_metrics = process_files(train_files, [\"TRAIN Accuracy\", \"TRAIN Balanced_Accuracy\"])\n",
    "    avg_test_metrics  = process_files(test_files, [\"Accuracy\"])\n",
    "    \n",
    "    print(\"\\nAverage Train Metrics per Model:\")\n",
    "    print(avg_train_metrics)\n",
    "    \n",
    "    print(\"\\nAverage Test Metrics per Model:\")\n",
    "    print(avg_test_metrics)\n",
    "        \n",
    "    return robust_dict\n",
    "\n",
    "print(\"------Measles-------\")\n",
    "measles_folder = \"../data_created/best_models/results/Measles/\"\n",
    "measles_robust = aggregate_shap_features(measles_folder, threshold=3)\n",
    "\n",
    "print(\"-----Hepatitis------\")\n",
    "hepatitis_folder = \"../data_created/best_models/results/Hepatitis/\"\n",
    "hepatitis_robust = aggregate_shap_features(hepatitis_folder, threshold=3)"
   ],
   "outputs": [
    {
     "name": "stdout",
     "output_type": "stream",
     "text": [
      "------Measles-------\n",
      "['../data_created/best_models/results/Measles/shap_feature_2_label_Consensus_compressed_4__.csv', '../data_created/best_models/results/Measles/train_2_label_Consensus_compressed_4__.csv', '../data_created/best_models/results/Measles/test_2_label_Consensus_compressed_4__.csv', '../data_created/best_models/results/Measles/shap_feature_2_label_Consensus_compressed_2__.csv', '../data_created/best_models/results/Measles/test_2_label_Consensus_compressed_2__.csv', '../data_created/best_models/results/Measles/train_2_label_Consensus_compressed_2__.csv', '../data_created/best_models/results/Measles/test_2_label_Consensus_compressed_5__.csv', '../data_created/best_models/results/Measles/train_2_label_Consensus_compressed_5__.csv', '../data_created/best_models/results/Measles/shap_feature_2_label_Consensus_compressed_5__.csv', '../data_created/best_models/results/Measles/train_2_label_Consensus_compressed_3__.csv', '../data_created/best_models/results/Measles/test_2_label_Consensus_compressed_3__.csv', '../data_created/best_models/results/Measles/shap_feature_2_label_Consensus_compressed_1__.csv', '../data_created/best_models/results/Measles/shap_feature_2_label_Consensus_compressed_3__.csv', '../data_created/best_models/results/Measles/train_2_label_Consensus_compressed_1__.csv', '../data_created/best_models/results/Measles/test_2_label_Consensus_compressed_1__.csv']\n",
      "\n",
      "Robust features for Clonal Breadth (appearing in at least 3 runs):\n",
      "            Model                Feature  frequency  mean_importance\n",
      "0  Clonal Breadth  fraction_sequences_ab          5          0.38264\n",
      "1  Clonal Breadth  fraction_sequences_gd          5          0.30246\n",
      "\n",
      "Robust features for Clonal Depth (appearing in at least 3 runs):\n",
      "          Model                    Feature  frequency  mean_importance\n",
      "2  Clonal Depth  uniqueMoleculeFraction_ab          5          0.63898\n",
      "3  Clonal Depth  uniqueMoleculeFraction_gd          5          0.61114\n",
      "\n",
      "Robust features for Cytokines (appearing in at least 3 runs):\n",
      "        Model               Feature  frequency  mean_importance\n",
      "20  Cytokines           HHV6.Status          4         0.061800\n",
      "9   Cytokines  Cluster14_Compressed          5         0.042480\n",
      "11  Cytokines   Cluster2_Compressed          3         0.037600\n",
      "15  Cytokines   Cluster6_Compressed          4         0.034725\n",
      "14  Cytokines   Cluster5_Compressed          3         0.030900\n",
      "6   Cytokines  Cluster11_Compressed          4         0.030700\n",
      "5   Cytokines  Cluster10_Compressed          3         0.029267\n",
      "16  Cytokines   Cluster7_Compressed          4         0.019475\n",
      "18  Cytokines   Cluster9_Compressed          3         0.017800\n",
      "4   Cytokines            CMV.Status          4         0.017075\n",
      "\n",
      "Robust features for Cytometry (appearing in at least 3 runs):\n",
      "        Model              Feature  frequency  mean_importance\n",
      "22  Cytometry  Cluster1_Compressed          5          0.17028\n",
      "25  Cytometry  Cluster4_Compressed          5          0.12822\n",
      "23  Cytometry  Cluster2_Compressed          5          0.07584\n",
      "24  Cytometry  Cluster3_Compressed          5          0.07460\n",
      "27  Cytometry  Cluster6_Compressed          5          0.03578\n",
      "26  Cytometry  Cluster5_Compressed          5          0.02486\n",
      "\n",
      "Robust features for RNA Data (appearing in at least 3 runs):\n",
      "       Model               Feature  frequency  mean_importance\n",
      "38  RNA Data  cluster26_Compressed          5         0.014400\n",
      "39  RNA Data  cluster27_Compressed          5         0.013800\n",
      "37  RNA Data  cluster25_Compressed          4         0.013175\n",
      "35  RNA Data  cluster23_Compressed          5         0.009120\n",
      "44  RNA Data  cluster33_Compressed          3         0.007933\n",
      "29  RNA Data  cluster12_Compressed          4         0.007150\n",
      "49  RNA Data   cluster8_Compressed          4         0.006950\n",
      "42  RNA Data  cluster30_Compressed          4         0.004925\n",
      "\n",
      "Average Train Metrics per Model:\n",
      "             Data  TRAIN Accuracy  TRAIN Balanced_Accuracy\n",
      "0  Clonal Breadth         0.71996                  0.73476\n",
      "1    Clonal Depth         0.81048                  0.80434\n",
      "2       Consensus             NaN                      NaN\n",
      "3       Cytokines         0.75896                  0.70146\n",
      "4       Cytometry         0.71512                  0.66232\n",
      "5        RNA Data         0.73390                  0.72754\n",
      "\n",
      "Average Test Metrics per Model:\n",
      "             Data  Accuracy\n",
      "0  Clonal Breadth   0.65682\n",
      "1    Clonal Depth   0.85454\n",
      "2       Consensus   0.89546\n",
      "3       Cytokines   0.58636\n",
      "4       Cytometry   0.83636\n",
      "5        RNA Data   0.82728\n",
      "-----Hepatitis------\n",
      "['../data_created/best_models/results/Hepatitis/shap_feature_2_label_Consensus_compressed_4__.csv', '../data_created/best_models/results/Hepatitis/train_2_label_Consensus_compressed_4__.csv', '../data_created/best_models/results/Hepatitis/test_2_label_Consensus_compressed_4__.csv', '../data_created/best_models/results/Hepatitis/shap_feature_2_label_Consensus_compressed_2__.csv', '../data_created/best_models/results/Hepatitis/test_2_label_Consensus_compressed_2__.csv', '../data_created/best_models/results/Hepatitis/train_2_label_Consensus_compressed_2__.csv', '../data_created/best_models/results/Hepatitis/test_2_label_Consensus_compressed_5__.csv', '../data_created/best_models/results/Hepatitis/train_2_label_Consensus_compressed_5__.csv', '../data_created/best_models/results/Hepatitis/shap_feature_2_label_Consensus_compressed_5__.csv', '../data_created/best_models/results/Hepatitis/train_2_label_Consensus_compressed_3__.csv', '../data_created/best_models/results/Hepatitis/test_2_label_Consensus_compressed_3__.csv', '../data_created/best_models/results/Hepatitis/shap_feature_2_label_Consensus_compressed_1__.csv', '../data_created/best_models/results/Hepatitis/shap_feature_2_label_Consensus_compressed_3__.csv', '../data_created/best_models/results/Hepatitis/train_2_label_Consensus_compressed_1__.csv', '../data_created/best_models/results/Hepatitis/test_2_label_Consensus_compressed_1__.csv']\n",
      "\n",
      "Robust features for Clonal Breadth (appearing in at least 3 runs):\n",
      "            Model   Feature  frequency  mean_importance\n",
      "1  Clonal Breadth  HepBTCRs          5          0.11388\n",
      "0  Clonal Breadth        B0          5          0.05810\n",
      "3  Clonal Breadth      PSB0          5          0.05326\n",
      "2  Clonal Breadth    PPnrB0          5          0.03946\n",
      "\n",
      "Robust features for Cytometry (appearing in at least 3 runs):\n",
      "       Model              Feature  frequency  mean_importance\n",
      "9  Cytometry  Cluster6_Compressed          5          0.19806\n",
      "7  Cytometry  Cluster4_Compressed          5          0.17286\n",
      "4  Cytometry  Cluster1_Compressed          5          0.07752\n",
      "5  Cytometry  Cluster2_Compressed          5          0.06816\n",
      "8  Cytometry  Cluster5_Compressed          5          0.06378\n",
      "6  Cytometry  Cluster3_Compressed          5          0.05400\n",
      "\n",
      "Robust features for RNA Data (appearing in at least 3 runs):\n",
      "       Model               Feature  frequency  mean_importance\n",
      "22  RNA Data  cluster27_Compressed          5         0.275820\n",
      "28  RNA Data  cluster33_Compressed          4         0.267075\n",
      "10  RNA Data  cluster10_Compressed          5         0.224100\n",
      "27  RNA Data  cluster32_Compressed          3         0.199533\n",
      "17  RNA Data  cluster20_Compressed          3         0.141167\n",
      "23  RNA Data  cluster28_Compressed          4         0.089975\n",
      "16  RNA Data  cluster19_Compressed          3         0.029100\n",
      "\n",
      "Average Train Metrics per Model:\n",
      "             Data  TRAIN Accuracy  TRAIN Balanced_Accuracy\n",
      "0  Clonal Breadth         0.71996                  0.73476\n",
      "1    Clonal Depth         0.81048                  0.80434\n",
      "2       Consensus             NaN                      NaN\n",
      "3       Cytokines         0.75896                  0.70146\n",
      "4       Cytometry         0.71512                  0.66232\n",
      "5        RNA Data         0.73390                  0.72754\n",
      "\n",
      "Average Test Metrics per Model:\n",
      "             Data  Accuracy\n",
      "0  Clonal Breadth   0.65682\n",
      "1    Clonal Depth   0.85454\n",
      "2       Consensus   0.89546\n",
      "3       Cytokines   0.58636\n",
      "4       Cytometry   0.83636\n",
      "5        RNA Data   0.82728\n"
     ]
    }
   ],
   "execution_count": 80
  },
  {
   "metadata": {
    "ExecuteTime": {
     "end_time": "2025-03-03T12:49:39.547120Z",
     "start_time": "2025-03-03T12:49:39.544268Z"
    }
   },
   "cell_type": "code",
   "source": [
    "def pp(df):\n",
    "    features = []\n",
    "    for feature in df['RNA Data']['Feature']:\n",
    "        features.append(feature)\n",
    "        \n",
    "    return features\n",
    "\n",
    "measles_rna_features = set(pp(measles_robust))\n",
    "print(measles_rna_features)\n",
    "\n",
    "hepatitis_rna_features = set(pp(hepatitis_robust))\n",
    "print(hepatitis_rna_features)\n",
    "\n",
    "common_global = measles_rna_features.intersection(hepatitis_rna_features)\n",
    "print(\"Global common features between Measles and Hepatitis:\")\n",
    "print(common_global)"
   ],
   "id": "c2f3b1613a16be11",
   "outputs": [
    {
     "name": "stdout",
     "output_type": "stream",
     "text": [
      "{'cluster26_Compressed', 'cluster12_Compressed', 'cluster27_Compressed', 'cluster23_Compressed', 'cluster33_Compressed', 'cluster30_Compressed', 'cluster25_Compressed', 'cluster8_Compressed'}\n",
      "{'cluster10_Compressed', 'cluster28_Compressed', 'cluster27_Compressed', 'cluster33_Compressed', 'cluster19_Compressed', 'cluster32_Compressed', 'cluster20_Compressed'}\n",
      "Global common features between Measles and Hepatitis:\n",
      "{'cluster27_Compressed', 'cluster33_Compressed'}\n"
     ]
    }
   ],
   "execution_count": 81
  },
  {
   "metadata": {
    "ExecuteTime": {
     "end_time": "2025-03-03T12:49:39.573389Z",
     "start_time": "2025-03-03T12:49:39.567330Z"
    }
   },
   "cell_type": "code",
   "source": [
    "# Load the JSON file\n",
    "def load_json(json_path):\n",
    "    with open(json_path, 'r') as file:\n",
    "        cluster_data = json.load(file)\n",
    "    return cluster_data\n",
    "\n",
    "def decompress_features(df, json_path):\n",
    "    cluster_data = load_json(json_path)\n",
    "    features = []\n",
    "    for feature in df['RNA Data']['Feature']:\n",
    "        # Remove the \"_compressed\" substring from the feature name, if present\n",
    "        feature_key = feature.replace(\"_Compressed\", \"\")\n",
    "        # Retrieve the decompressed features from the JSON data\n",
    "        decompressed_features = cluster_data.get(feature_key)\n",
    "        if decompressed_features is None:\n",
    "            print(f\"Warning: Feature '{feature_key}' not found in cluster data.\")\n",
    "        else:\n",
    "            features.extend(decompressed_features)\n",
    "    return features\n",
    "\n",
    "measles_rna_features = set(decompress_features(measles_robust, \"../data/Measles/clusters/RNA1.json\"))\n",
    "print(measles_rna_features)\n",
    "\n",
    "hepatitis_rna_features = set(decompress_features(hepatitis_robust, \"../data/Hepatitis B/clusters/RNA1.json\"))\n",
    "print(hepatitis_rna_features)\n",
    "\n",
    "common_global = measles_rna_features.intersection(hepatitis_rna_features)\n",
    "print(\"Global common features between Measles and Hepatitis:\")\n",
    "print(common_global)"
   ],
   "id": "b0c73561f9972ac7",
   "outputs": [
    {
     "name": "stdout",
     "output_type": "stream",
     "text": [
      "{'Inflammation.10', 'Inflammation', 'Cell cycle.5', 'Inflammation.5', 'Protein synthesis.17', 'Plasma cells.4', 'Cytotoxic lymphocytes', 'Leukocyte activation', 'Monocytes.4', 'Erythroid cells.14', 'Plasma cells.3', 'Monocytes.3', 'Neutrophils', 'Gene transcription.15', 'Monocytes', 'Inflammation.6', 'Inflammation.7', 'Cytokines/chemokines.2', 'Inflammation.12', 'Platelet', 'Neutrophils.2'}\n",
      "{'Gene transcription.12', 'Erythroid cells.19', 'Lymphocytes', 'Protein modification.17', 'TGF-beta', 'Cell cycle.9', 'Protein synthesis.12', 'Monocytes.1', 'Gene transcription.1', 'Protein synthesis.8', 'Platelet/Prostaglandin', 'Monocytes.4', 'Complement', 'Protein modification.2', 'Monocytes.6', 'Gene transcription.3', 'Erythroid cells.18', 'Neutrophils.1', 'Gene transcription.19', 'Protein modification.10', 'Cell cycle.7', 'Protein modification.3', 'Oxidative phosphorylation.1', 'Oxidative stress.2', 'Protein modification', 'Protein synthesis.13', 'Gene transcription.11', 'Protein synthesis.4', 'Protein modification.9', 'Inflammation.6', 'B cells.1', 'Inflammation.7', 'Gene transcription.26', 'Protein modification.1', 'Oxidative stress.1', 'Gene transcription.2', 'T cells.3', 'Plasma cells.1'}\n",
      "Global common features between Measles and Hepatitis:\n",
      "{'Monocytes.4', 'Inflammation.7', 'Inflammation.6'}\n"
     ]
    }
   ],
   "execution_count": 82
  },
  {
   "metadata": {
    "ExecuteTime": {
     "end_time": "2025-03-03T12:49:39.599318Z",
     "start_time": "2025-03-03T12:49:39.597502Z"
    }
   },
   "cell_type": "code",
   "source": "",
   "id": "75b51ccf5fbff536",
   "outputs": [],
   "execution_count": null
  }
 ],
 "metadata": {
  "kernelspec": {
   "display_name": "Python 3",
   "language": "python",
   "name": "python3"
  },
  "language_info": {
   "codemirror_mode": {
    "name": "ipython",
    "version": 2
   },
   "file_extension": ".py",
   "mimetype": "text/x-python",
   "name": "python",
   "nbconvert_exporter": "python",
   "pygments_lexer": "ipython2",
   "version": "2.7.6"
  }
 },
 "nbformat": 4,
 "nbformat_minor": 5
}
